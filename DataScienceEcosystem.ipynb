{
 "cells": [
  {
   "cell_type": "markdown",
   "id": "b5c06e33-c21c-4dbf-8200-756135f488ef",
   "metadata": {},
   "source": [
    "# Data Science Tools and Ecosystem"
   ]
  },
  {
   "cell_type": "markdown",
   "id": "87085821-563f-46cd-9e23-c6afb7739cf4",
   "metadata": {},
   "source": [
    "In this notebook, Data Science Tools and Ecosystem are summarized."
   ]
  },
  {
   "cell_type": "markdown",
   "id": "1ecb75d3-8edb-4438-bab9-d905742193fb",
   "metadata": {},
   "source": [
    "Objectives:\n",
    "- List popular languages for Data Science\n",
    "- List commonly used libraries used for Data Science\n",
    "- Build a Data Scientist Tools table\n",
    "- Introduce simple arithmetic expressions"
   ]
  },
  {
   "cell_type": "markdown",
   "id": "97581ae4-5642-46b2-a7a7-8cf35dcd1239",
   "metadata": {},
   "source": [
    "Some of the popular languages that Data Scientists use are:\n",
    "1. Python\n",
    "2. R\n",
    "3. SQL"
   ]
  },
  {
   "cell_type": "markdown",
   "id": "31019fdd-4869-421c-be41-a5a34db03610",
   "metadata": {},
   "source": [
    "Some of commonly used libraries used by Data Scientist includes:\n",
    "1. Numpy\n",
    "2. Pandas\n",
    "3. Matplotlib\n",
    "4. Ggplot"
   ]
  },
  {
   "cell_type": "markdown",
   "id": "691d0ced-a75c-47b4-9325-9fb95af77c12",
   "metadata": {},
   "source": [
    "| Data Scientist Tools |\n",
    "| --- |\n",
    "| Jupyter |\n",
    "| RStudio |\n",
    "| Git |"
   ]
  },
  {
   "cell_type": "markdown",
   "id": "41aa6d9a-a65e-4bf2-80a7-c9a1f1af6e6d",
   "metadata": {},
   "source": [
    "### Below are a few examples of evaluating arithmetic expression in Python."
   ]
  },
  {
   "cell_type": "markdown",
   "id": "8dbd42f9-3d88-4b36-8c06-a5807cdebbc8",
   "metadata": {},
   "source": [
    "This is a simple example of an arithmetic expression:"
   ]
  },
  {
   "cell_type": "code",
   "execution_count": 1,
   "id": "85d24c0d-5a6f-46a7-aa8b-5d0d619afae1",
   "metadata": {
    "tags": []
   },
   "outputs": [
    {
     "data": {
      "text/plain": [
       "17"
      ]
     },
     "execution_count": 1,
     "metadata": {},
     "output_type": "execute_result"
    }
   ],
   "source": [
    "(3 * 4) + 5"
   ]
  },
  {
   "cell_type": "markdown",
   "id": "75f66534-a176-4e25-9a1f-25c085404c18",
   "metadata": {},
   "source": [
    "This will convert 200 minutes to hours by dividing by 60"
   ]
  },
  {
   "cell_type": "code",
   "execution_count": 4,
   "id": "36808925-e7dd-4c9d-802d-0ada25c6480c",
   "metadata": {
    "tags": []
   },
   "outputs": [
    {
     "data": {
      "text/plain": [
       "3.3333333333333335"
      ]
     },
     "execution_count": 4,
     "metadata": {},
     "output_type": "execute_result"
    }
   ],
   "source": [
    "def toHours(t): return t / 60\n",
    "toHours(200)"
   ]
  },
  {
   "cell_type": "markdown",
   "id": "d922c998-72b3-4c25-95b2-f4e1725e6fa6",
   "metadata": {},
   "source": [
    "## Author\n",
    "Luan Caliendo"
   ]
  }
 ],
 "metadata": {
  "kernelspec": {
   "display_name": "Python",
   "language": "python",
   "name": "conda-env-python-py"
  },
  "language_info": {
   "codemirror_mode": {
    "name": "ipython",
    "version": 3
   },
   "file_extension": ".py",
   "mimetype": "text/x-python",
   "name": "python",
   "nbconvert_exporter": "python",
   "pygments_lexer": "ipython3",
   "version": "3.7.12"
  }
 },
 "nbformat": 4,
 "nbformat_minor": 5
}
